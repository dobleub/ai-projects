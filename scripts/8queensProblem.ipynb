{
 "cells": [
  {
   "cell_type": "markdown",
   "metadata": {},
   "source": [
    "# N queens problem - Backtracking\n",
    "\n",
    "| # | # | # | # |\n",
    "| -------- | ------- | -------- | ------- |\n",
    "| - | q | - | - |\n",
    "| - | - | - | q |\n",
    "| q | - | - | - |\n",
    "| - | - | q | - |\n"
   ]
  },
  {
   "cell_type": "code",
   "execution_count": 2,
   "metadata": {},
   "outputs": [
    {
     "name": "stdout",
     "output_type": "stream",
     "text": [
      ". Q . . . .\n",
      ". . . Q . .\n",
      ". . . . . Q\n",
      "Q . . . . .\n",
      ". . Q . . .\n",
      ". . . . Q .\n",
      "\n",
      ". . Q . . .\n",
      ". . . . . Q\n",
      ". Q . . . .\n",
      ". . . . Q .\n",
      "Q . . . . .\n",
      ". . . Q . .\n",
      "\n",
      ". . . Q . .\n",
      "Q . . . . .\n",
      ". . . . Q .\n",
      ". Q . . . .\n",
      ". . . . . Q\n",
      ". . Q . . .\n",
      "\n",
      ". . . . Q .\n",
      ". . Q . . .\n",
      "Q . . . . .\n",
      ". . . . . Q\n",
      ". . . Q . .\n",
      ". Q . . . .\n",
      "\n",
      "Total solutions: 4\n"
     ]
    }
   ],
   "source": [
    "def is_valid(queens, row):\n",
    "  for i in range(row):\n",
    "    diff = abs(queens[i] - queens[row])\n",
    "    if diff == 0 or diff == row - i:\n",
    "      return False\n",
    "  return True\n",
    "\n",
    "def place_queen(row, queens, n):\n",
    "  if row == n:\n",
    "    return [queens[:]]\n",
    "  else:\n",
    "    solutions = []\n",
    "    for col in range(n):\n",
    "      queens[row] = col\n",
    "      if is_valid(queens, row):\n",
    "        solutions.extend(place_queen(row + 1, queens, n))\n",
    "    return solutions\n",
    "\n",
    "def n_queens(n):\n",
    "  queens = [' '] * n\n",
    "  row = 0\n",
    "\n",
    "  return place_queen(row, queens, n)\n",
    "\n",
    "# board like [1, 3, 0, 2] means\n",
    "#    0 1 2 3\n",
    "# 0  . Q . .\n",
    "# 1  . . . Q\n",
    "# 2  Q . . .\n",
    "# 3  . . Q .\n",
    "def print_board(board):\n",
    "  for solution in board:\n",
    "    for row in solution:\n",
    "      print(' '.join(['Q' if i == row else '.' for i in range(len(solution))]))\n",
    "    print()\n",
    "  print('Total solutions:', len(board))\n",
    "\n",
    "n = 6\n",
    "board = n_queens(n)\n",
    "print_board(board)\n"
   ]
  },
  {
   "cell_type": "code",
   "execution_count": null,
   "metadata": {},
   "outputs": [],
   "source": []
  }
 ],
 "metadata": {
  "kernelspec": {
   "display_name": "Python 3",
   "language": "python",
   "name": "python3"
  },
  "language_info": {
   "codemirror_mode": {
    "name": "ipython",
    "version": 3
   },
   "file_extension": ".py",
   "mimetype": "text/x-python",
   "name": "python",
   "nbconvert_exporter": "python",
   "pygments_lexer": "ipython3",
   "version": "3.10.11"
  }
 },
 "nbformat": 4,
 "nbformat_minor": 2
}
